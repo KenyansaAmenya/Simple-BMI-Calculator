{
 "cells": [
  {
   "cell_type": "markdown",
   "id": "bdbd853b-6faa-4988-87cf-54f4f748745e",
   "metadata": {},
   "source": [
    "# BMI Calculator"
   ]
  },
  {
   "cell_type": "code",
   "execution_count": 20,
   "id": "7972e8d9-a0d3-45ba-8e14-95c316a91d94",
   "metadata": {},
   "outputs": [
    {
     "name": "stdin",
     "output_type": "stream",
     "text": [
      "Enter your name:  Felix\n",
      "Enter your weight in kilograms:  87\n",
      "Enter your height in inches:  62\n"
     ]
    },
    {
     "name": "stdout",
     "output_type": "stream",
     "text": [
      "22.63267429760666\n",
      "Felix, You are normal weight.\n"
     ]
    }
   ],
   "source": [
    "name = input(\"Enter your name: \")\n",
    "\n",
    "weight = int(input(\"Enter your weight in kilograms: \"))\n",
    "\n",
    "height = int(input(\"Enter your height in inches: \"))\n",
    "\n",
    "BMI = (weight * 1000) / (height * height)\n",
    "\n",
    "print(BMI)\n",
    "\n",
    "if BMI > 0: \n",
    "    if(BMI<18.5):\n",
    "        print(name +\", You are underweight.\")\n",
    "    elif(BMI<=24.9):\n",
    "        print(name +\", You are normal weight.\")\n",
    "    elif(BMI<=29.5):\n",
    "        print(name +\", You are overweight.\")\n",
    "    elif(BMI<=34.9):\n",
    "        print(name +\", You are Obese.\")\n",
    "    elif(BMI<=39.9):\n",
    "        print(name +\", You are severely Obese.\")\n",
    "    else: \n",
    "        print(name +\", You are Morbidly Obese\")\n"
   ]
  },
  {
   "cell_type": "code",
   "execution_count": null,
   "id": "8c218c65-cc2f-457a-a1e2-ddc2133fe200",
   "metadata": {},
   "outputs": [],
   "source": []
  },
  {
   "cell_type": "code",
   "execution_count": null,
   "id": "abebaa61-9082-4f71-bbc7-ed26e818e38b",
   "metadata": {},
   "outputs": [],
   "source": []
  },
  {
   "cell_type": "code",
   "execution_count": null,
   "id": "e65af3b1-34d7-4b53-9d6d-36c8834c94a0",
   "metadata": {},
   "outputs": [],
   "source": []
  },
  {
   "cell_type": "code",
   "execution_count": 9,
   "id": "a57147e2-ee33-4dc1-b8d9-9a6f72cb8fe6",
   "metadata": {},
   "outputs": [
    {
     "name": "stdout",
     "output_type": "stream",
     "text": [
      "85\n"
     ]
    }
   ],
   "source": [
    "print(weight)"
   ]
  },
  {
   "cell_type": "code",
   "execution_count": null,
   "id": "059de4ab-bb0d-450d-9844-537aaaeb35df",
   "metadata": {},
   "outputs": [],
   "source": []
  },
  {
   "cell_type": "code",
   "execution_count": null,
   "id": "ca1cb8b4-1c12-42fc-a181-69d3d6c8c988",
   "metadata": {},
   "outputs": [],
   "source": []
  },
  {
   "cell_type": "code",
   "execution_count": null,
   "id": "1da2e214-4fca-4d09-8973-16dde1e16403",
   "metadata": {},
   "outputs": [],
   "source": [
    "#BMI = (weight in pounds x 703) / (height in  inches x height in inches)"
   ]
  },
  {
   "cell_type": "code",
   "execution_count": 18,
   "id": "0561d51b-9d95-4bf9-95a1-a144d6eaffb8",
   "metadata": {},
   "outputs": [
    {
     "name": "stdout",
     "output_type": "stream",
     "text": [
      "Felix, You are normal weight.\n"
     ]
    }
   ],
   "source": [
    "if BMI > 0: \n",
    "    if(BMI<18.5):\n",
    "        print(name +\", You are underweight.\")\n",
    "    elif(BMI<=24.9):\n",
    "        print(name +\", You are normal weight.\")\n",
    "    elif(BMI<=29.5):\n",
    "        print(name +\", You are overweight.\")\n",
    "    elif(BMI<=34.9):\n",
    "        print(name +\", You are Obese.\")\n",
    "    elif(BMI<=39.9):\n",
    "        print(name +\", You are severely Obese.\")\n",
    "    else: \n",
    "        print(name +\", You are Morbidly Obese\")"
   ]
  },
  {
   "cell_type": "code",
   "execution_count": null,
   "id": "9eff8ac7-8bdc-4434-9ebc-0c7ed86d5611",
   "metadata": {},
   "outputs": [],
   "source": []
  },
  {
   "cell_type": "code",
   "execution_count": null,
   "id": "62f55164-8d1e-40e0-b41d-2da1306503e1",
   "metadata": {},
   "outputs": [],
   "source": []
  }
 ],
 "metadata": {
  "kernelspec": {
   "display_name": "Python [conda env:base] *",
   "language": "python",
   "name": "conda-base-py"
  },
  "language_info": {
   "codemirror_mode": {
    "name": "ipython",
    "version": 3
   },
   "file_extension": ".py",
   "mimetype": "text/x-python",
   "name": "python",
   "nbconvert_exporter": "python",
   "pygments_lexer": "ipython3",
   "version": "3.12.7"
  }
 },
 "nbformat": 4,
 "nbformat_minor": 5
}
